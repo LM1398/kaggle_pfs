{
 "cells": [
  {
   "cell_type": "markdown",
   "id": "94c25333-795f-4d3c-b959-eecd68ee8c2d",
   "metadata": {},
   "source": [
    "# Objective: Create a baseline model\n",
    "# To-do: Predict the item sales of every item in November 2015"
   ]
  },
  {
   "cell_type": "markdown",
   "id": "2a7eeef1-4c09-4e9e-a147-061b79c7ded0",
   "metadata": {},
   "source": [
    "# Import"
   ]
  },
  {
   "cell_type": "code",
   "execution_count": 32,
   "id": "c89704d7-b10e-4f93-b7e3-bd936d25dbd3",
   "metadata": {},
   "outputs": [],
   "source": [
    "import matplotlib.pyplot as plt\n",
    "import numpy as np\n",
    "import pandas as pd\n",
    "import seaborn as sns\n",
    "\n",
    "item_cat = pd.read_csv(\"/Users/leo/samurai/kaggle/pfs/data/item_categories.csv\")\n",
    "items = pd.read_csv(\"/Users/leo/samurai/kaggle/pfs/data/items.csv\")\n",
    "train = pd.read_csv(\"/Users/leo/samurai/kaggle/pfs/data/sales_train.csv\")\n",
    "shops = pd.read_csv(\"/Users/leo/samurai/kaggle/pfs/data/shops.csv\")\n",
    "test = pd.read_csv(\"/Users/leo/samurai/kaggle/pfs/data/test.csv\")\n",
    "sample_sub = pd.read_csv(\"/Users/leo/samurai/kaggle/pfs/data/sample_submission.csv\")"
   ]
  },
  {
   "cell_type": "markdown",
   "id": "e2295e02-b2a8-40f8-851a-328de5485b89",
   "metadata": {},
   "source": [
    "# Check goal"
   ]
  },
  {
   "cell_type": "code",
   "execution_count": 34,
   "id": "5c7c9cd3-a4fe-4b15-8caf-ee171b109a95",
   "metadata": {},
   "outputs": [
    {
     "data": {
      "text/html": [
       "<div>\n",
       "<style scoped>\n",
       "    .dataframe tbody tr th:only-of-type {\n",
       "        vertical-align: middle;\n",
       "    }\n",
       "\n",
       "    .dataframe tbody tr th {\n",
       "        vertical-align: top;\n",
       "    }\n",
       "\n",
       "    .dataframe thead th {\n",
       "        text-align: right;\n",
       "    }\n",
       "</style>\n",
       "<table border=\"1\" class=\"dataframe\">\n",
       "  <thead>\n",
       "    <tr style=\"text-align: right;\">\n",
       "      <th></th>\n",
       "      <th>ID</th>\n",
       "      <th>item_cnt_month</th>\n",
       "    </tr>\n",
       "  </thead>\n",
       "  <tbody>\n",
       "    <tr>\n",
       "      <th>0</th>\n",
       "      <td>0</td>\n",
       "      <td>0.5</td>\n",
       "    </tr>\n",
       "    <tr>\n",
       "      <th>1</th>\n",
       "      <td>1</td>\n",
       "      <td>0.5</td>\n",
       "    </tr>\n",
       "    <tr>\n",
       "      <th>2</th>\n",
       "      <td>2</td>\n",
       "      <td>0.5</td>\n",
       "    </tr>\n",
       "    <tr>\n",
       "      <th>3</th>\n",
       "      <td>3</td>\n",
       "      <td>0.5</td>\n",
       "    </tr>\n",
       "    <tr>\n",
       "      <th>4</th>\n",
       "      <td>4</td>\n",
       "      <td>0.5</td>\n",
       "    </tr>\n",
       "  </tbody>\n",
       "</table>\n",
       "</div>"
      ],
      "text/plain": [
       "   ID  item_cnt_month\n",
       "0   0             0.5\n",
       "1   1             0.5\n",
       "2   2             0.5\n",
       "3   3             0.5\n",
       "4   4             0.5"
      ]
     },
     "execution_count": 34,
     "metadata": {},
     "output_type": "execute_result"
    }
   ],
   "source": [
    "sample_sub.head()"
   ]
  },
  {
   "cell_type": "markdown",
   "id": "fc9da83d-b0e2-4916-9698-9801884f7e3e",
   "metadata": {},
   "source": [
    "# EDA"
   ]
  },
  {
   "cell_type": "markdown",
   "id": "0113ee86-73ae-42fa-a35a-0083556042cd",
   "metadata": {},
   "source": [
    "## item_cat"
   ]
  },
  {
   "cell_type": "code",
   "execution_count": 35,
   "id": "5755915a-9d24-4d93-a066-021162ed73e2",
   "metadata": {},
   "outputs": [
    {
     "data": {
      "text/html": [
       "<div>\n",
       "<style scoped>\n",
       "    .dataframe tbody tr th:only-of-type {\n",
       "        vertical-align: middle;\n",
       "    }\n",
       "\n",
       "    .dataframe tbody tr th {\n",
       "        vertical-align: top;\n",
       "    }\n",
       "\n",
       "    .dataframe thead th {\n",
       "        text-align: right;\n",
       "    }\n",
       "</style>\n",
       "<table border=\"1\" class=\"dataframe\">\n",
       "  <thead>\n",
       "    <tr style=\"text-align: right;\">\n",
       "      <th></th>\n",
       "      <th>item_category_name</th>\n",
       "      <th>item_category_id</th>\n",
       "    </tr>\n",
       "  </thead>\n",
       "  <tbody>\n",
       "    <tr>\n",
       "      <th>0</th>\n",
       "      <td>PC - Гарнитуры/Наушники</td>\n",
       "      <td>0</td>\n",
       "    </tr>\n",
       "    <tr>\n",
       "      <th>1</th>\n",
       "      <td>Аксессуары - PS2</td>\n",
       "      <td>1</td>\n",
       "    </tr>\n",
       "    <tr>\n",
       "      <th>2</th>\n",
       "      <td>Аксессуары - PS3</td>\n",
       "      <td>2</td>\n",
       "    </tr>\n",
       "    <tr>\n",
       "      <th>3</th>\n",
       "      <td>Аксессуары - PS4</td>\n",
       "      <td>3</td>\n",
       "    </tr>\n",
       "    <tr>\n",
       "      <th>4</th>\n",
       "      <td>Аксессуары - PSP</td>\n",
       "      <td>4</td>\n",
       "    </tr>\n",
       "  </tbody>\n",
       "</table>\n",
       "</div>"
      ],
      "text/plain": [
       "        item_category_name  item_category_id\n",
       "0  PC - Гарнитуры/Наушники                 0\n",
       "1         Аксессуары - PS2                 1\n",
       "2         Аксессуары - PS3                 2\n",
       "3         Аксессуары - PS4                 3\n",
       "4         Аксессуары - PSP                 4"
      ]
     },
     "execution_count": 35,
     "metadata": {},
     "output_type": "execute_result"
    }
   ],
   "source": [
    "item_cat.head()"
   ]
  },
  {
   "cell_type": "code",
   "execution_count": 36,
   "id": "cf883f5f-ade9-47d3-8f74-5a4f37f993fd",
   "metadata": {},
   "outputs": [
    {
     "data": {
      "text/plain": [
       "(84, 2)"
      ]
     },
     "execution_count": 36,
     "metadata": {},
     "output_type": "execute_result"
    }
   ],
   "source": [
    "item_cat.shape"
   ]
  },
  {
   "cell_type": "code",
   "execution_count": 37,
   "id": "ae7d75e7-5cf5-4baa-8e6b-72c4586baa47",
   "metadata": {},
   "outputs": [
    {
     "data": {
      "text/plain": [
       "item_category_name    object\n",
       "item_category_id       int64\n",
       "dtype: object"
      ]
     },
     "execution_count": 37,
     "metadata": {},
     "output_type": "execute_result"
    }
   ],
   "source": [
    "item_cat.dtypes"
   ]
  },
  {
   "cell_type": "code",
   "execution_count": 38,
   "id": "7c65631a-d296-4221-8887-b426da73912c",
   "metadata": {},
   "outputs": [
    {
     "data": {
      "text/plain": [
       "item_category_name    0\n",
       "item_category_id      0\n",
       "dtype: int64"
      ]
     },
     "execution_count": 38,
     "metadata": {},
     "output_type": "execute_result"
    }
   ],
   "source": [
    "item_cat.isna().sum()"
   ]
  },
  {
   "cell_type": "code",
   "execution_count": 39,
   "id": "c564006d-9e64-48af-8441-d35f40c3f6d8",
   "metadata": {
    "tags": []
   },
   "outputs": [
    {
     "data": {
      "text/plain": [
       "84"
      ]
     },
     "execution_count": 39,
     "metadata": {},
     "output_type": "execute_result"
    }
   ],
   "source": [
    "item_cat.item_category_name.nunique()"
   ]
  },
  {
   "cell_type": "code",
   "execution_count": 40,
   "id": "bc18cd01-1e97-4d4f-8118-cc6d0f4ec803",
   "metadata": {},
   "outputs": [
    {
     "data": {
      "text/plain": [
       "['PC - Гарнитуры/Наушники',\n",
       " 'Аксессуары - PS2',\n",
       " 'Аксессуары - PS3',\n",
       " 'Аксессуары - PS4',\n",
       " 'Аксессуары - PSP']"
      ]
     },
     "execution_count": 40,
     "metadata": {},
     "output_type": "execute_result"
    }
   ],
   "source": [
    "item_cat.item_category_name.unique()[:5].tolist()"
   ]
  },
  {
   "cell_type": "code",
   "execution_count": 41,
   "id": "0f2f9967-d0e3-4529-b86e-dc0dfd516d48",
   "metadata": {},
   "outputs": [
    {
     "data": {
      "text/plain": [
       "Игровые консоли - PSP                  1\n",
       "Игры - PS4                             1\n",
       "Программы - MAC (Цифра)                1\n",
       "Музыка - CD локального производства    1\n",
       "Карты оплаты - Windows (Цифра)         1\n",
       "                                      ..\n",
       "Кино - Blu-Ray 3D                      1\n",
       "Служебные                              1\n",
       "Музыка - Подарочные издания            1\n",
       "Кино - DVD                             1\n",
       "Книги - Цифра                          1\n",
       "Name: item_category_name, Length: 84, dtype: int64"
      ]
     },
     "execution_count": 41,
     "metadata": {},
     "output_type": "execute_result"
    }
   ],
   "source": [
    "item_cat.item_category_name.value_counts()"
   ]
  },
  {
   "cell_type": "code",
   "execution_count": 42,
   "id": "01eb95a7-88fe-43dd-b639-1b5284200824",
   "metadata": {
    "tags": []
   },
   "outputs": [],
   "source": [
    "item_cat[\"big_category\"] = [\n",
    "    x.split(\"-\")[0].strip() for x in item_cat.item_category_name\n",
    "]"
   ]
  },
  {
   "cell_type": "code",
   "execution_count": 43,
   "id": "7cb26063-17ef-4604-b59e-2bee9c6cbbe1",
   "metadata": {},
   "outputs": [
    {
     "data": {
      "text/html": [
       "<div>\n",
       "<style scoped>\n",
       "    .dataframe tbody tr th:only-of-type {\n",
       "        vertical-align: middle;\n",
       "    }\n",
       "\n",
       "    .dataframe tbody tr th {\n",
       "        vertical-align: top;\n",
       "    }\n",
       "\n",
       "    .dataframe thead th {\n",
       "        text-align: right;\n",
       "    }\n",
       "</style>\n",
       "<table border=\"1\" class=\"dataframe\">\n",
       "  <thead>\n",
       "    <tr style=\"text-align: right;\">\n",
       "      <th></th>\n",
       "      <th>item_category_name</th>\n",
       "      <th>item_category_id</th>\n",
       "      <th>big_category</th>\n",
       "    </tr>\n",
       "  </thead>\n",
       "  <tbody>\n",
       "    <tr>\n",
       "      <th>0</th>\n",
       "      <td>PC - Гарнитуры/Наушники</td>\n",
       "      <td>0</td>\n",
       "      <td>PC</td>\n",
       "    </tr>\n",
       "    <tr>\n",
       "      <th>1</th>\n",
       "      <td>Аксессуары - PS2</td>\n",
       "      <td>1</td>\n",
       "      <td>Аксессуары</td>\n",
       "    </tr>\n",
       "    <tr>\n",
       "      <th>2</th>\n",
       "      <td>Аксессуары - PS3</td>\n",
       "      <td>2</td>\n",
       "      <td>Аксессуары</td>\n",
       "    </tr>\n",
       "    <tr>\n",
       "      <th>3</th>\n",
       "      <td>Аксессуары - PS4</td>\n",
       "      <td>3</td>\n",
       "      <td>Аксессуары</td>\n",
       "    </tr>\n",
       "    <tr>\n",
       "      <th>4</th>\n",
       "      <td>Аксессуары - PSP</td>\n",
       "      <td>4</td>\n",
       "      <td>Аксессуары</td>\n",
       "    </tr>\n",
       "  </tbody>\n",
       "</table>\n",
       "</div>"
      ],
      "text/plain": [
       "        item_category_name  item_category_id big_category\n",
       "0  PC - Гарнитуры/Наушники                 0           PC\n",
       "1         Аксессуары - PS2                 1   Аксессуары\n",
       "2         Аксессуары - PS3                 2   Аксессуары\n",
       "3         Аксессуары - PS4                 3   Аксессуары\n",
       "4         Аксессуары - PSP                 4   Аксессуары"
      ]
     },
     "execution_count": 43,
     "metadata": {},
     "output_type": "execute_result"
    }
   ],
   "source": [
    "item_cat.head()"
   ]
  },
  {
   "cell_type": "code",
   "execution_count": 44,
   "id": "09b07598-1753-4576-94de-6af45371b85f",
   "metadata": {},
   "outputs": [
    {
     "data": {
      "text/plain": [
       "20"
      ]
     },
     "execution_count": 44,
     "metadata": {},
     "output_type": "execute_result"
    }
   ],
   "source": [
    "item_cat.big_category.nunique()"
   ]
  },
  {
   "cell_type": "code",
   "execution_count": 49,
   "id": "050eb8cc-80e5-4a04-9fb5-1e0dc7ab04f2",
   "metadata": {},
   "outputs": [
    {
     "data": {
      "text/plain": [
       "Книги                                13\n",
       "Подарки                              12\n",
       "Игры                                  8\n",
       "Игровые консоли                       8\n",
       "Аксессуары                            7\n",
       "Программы                             6\n",
       "Музыка                                6\n",
       "Кино                                  5\n",
       "Карты оплаты                          4\n",
       "Игры PC                               4\n",
       "Служебные                             2\n",
       "Доставка товара                       1\n",
       "Карты оплаты (Кино, Музыка, Игры)     1\n",
       "Чистые носители (шпиль)               1\n",
       "Элементы питания                      1\n",
       "Игры Android                          1\n",
       "Игры MAC                              1\n",
       "Билеты (Цифра)                        1\n",
       "PC                                    1\n",
       "Чистые носители (штучные)             1\n",
       "Name: big_category, dtype: int64"
      ]
     },
     "execution_count": 49,
     "metadata": {},
     "output_type": "execute_result"
    }
   ],
   "source": [
    "item_cat.big_category.value_counts()"
   ]
  },
  {
   "cell_type": "code",
   "execution_count": 61,
   "id": "f2056a35-106c-456e-92d2-0300b4729266",
   "metadata": {},
   "outputs": [],
   "source": [
    "rus_eng = {\n",
    "    \"Книги\": \"books\",\n",
    "    \"Подарки\": \"present\",\n",
    "    \"Игры\": \"games\",\n",
    "    \"Игровые консоли\": \"game consoles\",\n",
    "    \"Аксессуары\": \"accesories\",\n",
    "    \"Программы\": \"programs\",\n",
    "    \"Музыка\": \"music\",\n",
    "    \"Кино\": \"cinema\",\n",
    "    \"Карты оплаты\": \"gift_cards\",\n",
    "    \"Игры PC\": \"pc_games\",\n",
    "    \"Служебные\": \"services\",\n",
    "    \"Доставка товара\": \"delivery\",\n",
    "    \"Карты оплаты (Кино, Музыка, Игры)\": \"payment_cards\",\n",
    "    \"Чистые носители (шпиль)\": \"cd\",\n",
    "    \"Элементы питания\": \"battery\",\n",
    "    \"Игры Android\": \"android_games\",\n",
    "    \"Игры MAC\": \"mac_games\",\n",
    "    \"Билеты (Цифра)\": \"tickets\",\n",
    "    \"PC\": \"pc\",\n",
    "    \"Чистые носители (штучные)\": \"dvd\",\n",
    "}"
   ]
  },
  {
   "cell_type": "code",
   "execution_count": 64,
   "id": "0acc66d5-9f6c-4e31-8a4e-29f227730c11",
   "metadata": {},
   "outputs": [],
   "source": [
    "item_cat.big_category.replace(to_replace=rus_eng, inplace=True)"
   ]
  },
  {
   "cell_type": "code",
   "execution_count": 70,
   "id": "6e7a81f6-a512-4aaa-99ad-e4b7ccf80409",
   "metadata": {},
   "outputs": [
    {
     "data": {
      "text/plain": [
       "books            13\n",
       "present          12\n",
       "game consoles     8\n",
       "games             8\n",
       "accesories        7\n",
       "music             6\n",
       "programs          6\n",
       "cinema            5\n",
       "pc_games          4\n",
       "gift_cards        4\n",
       "services          2\n",
       "battery           1\n",
       "dvd               1\n",
       "cd                1\n",
       "pc                1\n",
       "mac_games         1\n",
       "android_games     1\n",
       "delivery          1\n",
       "tickets           1\n",
       "payment_cards     1\n",
       "Name: big_category, dtype: int64"
      ]
     },
     "execution_count": 70,
     "metadata": {},
     "output_type": "execute_result"
    }
   ],
   "source": [
    "item_cat.big_category.value_counts()"
   ]
  },
  {
   "cell_type": "code",
   "execution_count": 71,
   "id": "1550b04d-a1a0-4187-be4c-8042097cabb8",
   "metadata": {},
   "outputs": [
    {
     "data": {
      "text/html": [
       "<div>\n",
       "<style scoped>\n",
       "    .dataframe tbody tr th:only-of-type {\n",
       "        vertical-align: middle;\n",
       "    }\n",
       "\n",
       "    .dataframe tbody tr th {\n",
       "        vertical-align: top;\n",
       "    }\n",
       "\n",
       "    .dataframe thead th {\n",
       "        text-align: right;\n",
       "    }\n",
       "</style>\n",
       "<table border=\"1\" class=\"dataframe\">\n",
       "  <thead>\n",
       "    <tr style=\"text-align: right;\">\n",
       "      <th></th>\n",
       "      <th>item_category_name</th>\n",
       "      <th>item_category_id</th>\n",
       "      <th>big_category</th>\n",
       "    </tr>\n",
       "  </thead>\n",
       "  <tbody>\n",
       "    <tr>\n",
       "      <th>0</th>\n",
       "      <td>PC - Гарнитуры/Наушники</td>\n",
       "      <td>0</td>\n",
       "      <td>pc</td>\n",
       "    </tr>\n",
       "    <tr>\n",
       "      <th>1</th>\n",
       "      <td>Аксессуары - PS2</td>\n",
       "      <td>1</td>\n",
       "      <td>accesories</td>\n",
       "    </tr>\n",
       "    <tr>\n",
       "      <th>2</th>\n",
       "      <td>Аксессуары - PS3</td>\n",
       "      <td>2</td>\n",
       "      <td>accesories</td>\n",
       "    </tr>\n",
       "    <tr>\n",
       "      <th>3</th>\n",
       "      <td>Аксессуары - PS4</td>\n",
       "      <td>3</td>\n",
       "      <td>accesories</td>\n",
       "    </tr>\n",
       "    <tr>\n",
       "      <th>4</th>\n",
       "      <td>Аксессуары - PSP</td>\n",
       "      <td>4</td>\n",
       "      <td>accesories</td>\n",
       "    </tr>\n",
       "    <tr>\n",
       "      <th>...</th>\n",
       "      <td>...</td>\n",
       "      <td>...</td>\n",
       "      <td>...</td>\n",
       "    </tr>\n",
       "    <tr>\n",
       "      <th>79</th>\n",
       "      <td>Служебные</td>\n",
       "      <td>79</td>\n",
       "      <td>services</td>\n",
       "    </tr>\n",
       "    <tr>\n",
       "      <th>80</th>\n",
       "      <td>Служебные - Билеты</td>\n",
       "      <td>80</td>\n",
       "      <td>services</td>\n",
       "    </tr>\n",
       "    <tr>\n",
       "      <th>81</th>\n",
       "      <td>Чистые носители (шпиль)</td>\n",
       "      <td>81</td>\n",
       "      <td>cd</td>\n",
       "    </tr>\n",
       "    <tr>\n",
       "      <th>82</th>\n",
       "      <td>Чистые носители (штучные)</td>\n",
       "      <td>82</td>\n",
       "      <td>dvd</td>\n",
       "    </tr>\n",
       "    <tr>\n",
       "      <th>83</th>\n",
       "      <td>Элементы питания</td>\n",
       "      <td>83</td>\n",
       "      <td>battery</td>\n",
       "    </tr>\n",
       "  </tbody>\n",
       "</table>\n",
       "<p>84 rows × 3 columns</p>\n",
       "</div>"
      ],
      "text/plain": [
       "           item_category_name  item_category_id big_category\n",
       "0     PC - Гарнитуры/Наушники                 0           pc\n",
       "1            Аксессуары - PS2                 1   accesories\n",
       "2            Аксессуары - PS3                 2   accesories\n",
       "3            Аксессуары - PS4                 3   accesories\n",
       "4            Аксессуары - PSP                 4   accesories\n",
       "..                        ...               ...          ...\n",
       "79                  Служебные                79     services\n",
       "80         Служебные - Билеты                80     services\n",
       "81    Чистые носители (шпиль)                81           cd\n",
       "82  Чистые носители (штучные)                82          dvd\n",
       "83           Элементы питания                83      battery\n",
       "\n",
       "[84 rows x 3 columns]"
      ]
     },
     "execution_count": 71,
     "metadata": {},
     "output_type": "execute_result"
    }
   ],
   "source": [
    "item_cat"
   ]
  },
  {
   "cell_type": "markdown",
   "id": "1f1335fc-f5b3-4b55-b063-5e4fff1c67c1",
   "metadata": {},
   "source": [
    "## items"
   ]
  },
  {
   "cell_type": "code",
   "execution_count": 72,
   "id": "f6b6d0c0-b23f-472a-9040-d37442d449c5",
   "metadata": {},
   "outputs": [
    {
     "data": {
      "text/html": [
       "<div>\n",
       "<style scoped>\n",
       "    .dataframe tbody tr th:only-of-type {\n",
       "        vertical-align: middle;\n",
       "    }\n",
       "\n",
       "    .dataframe tbody tr th {\n",
       "        vertical-align: top;\n",
       "    }\n",
       "\n",
       "    .dataframe thead th {\n",
       "        text-align: right;\n",
       "    }\n",
       "</style>\n",
       "<table border=\"1\" class=\"dataframe\">\n",
       "  <thead>\n",
       "    <tr style=\"text-align: right;\">\n",
       "      <th></th>\n",
       "      <th>item_name</th>\n",
       "      <th>item_id</th>\n",
       "      <th>item_category_id</th>\n",
       "    </tr>\n",
       "  </thead>\n",
       "  <tbody>\n",
       "    <tr>\n",
       "      <th>0</th>\n",
       "      <td>! ВО ВЛАСТИ НАВАЖДЕНИЯ (ПЛАСТ.)         D</td>\n",
       "      <td>0</td>\n",
       "      <td>40</td>\n",
       "    </tr>\n",
       "    <tr>\n",
       "      <th>1</th>\n",
       "      <td>!ABBYY FineReader 12 Professional Edition Full...</td>\n",
       "      <td>1</td>\n",
       "      <td>76</td>\n",
       "    </tr>\n",
       "    <tr>\n",
       "      <th>2</th>\n",
       "      <td>***В ЛУЧАХ СЛАВЫ   (UNV)                    D</td>\n",
       "      <td>2</td>\n",
       "      <td>40</td>\n",
       "    </tr>\n",
       "    <tr>\n",
       "      <th>3</th>\n",
       "      <td>***ГОЛУБАЯ ВОЛНА  (Univ)                      D</td>\n",
       "      <td>3</td>\n",
       "      <td>40</td>\n",
       "    </tr>\n",
       "    <tr>\n",
       "      <th>4</th>\n",
       "      <td>***КОРОБКА (СТЕКЛО)                       D</td>\n",
       "      <td>4</td>\n",
       "      <td>40</td>\n",
       "    </tr>\n",
       "  </tbody>\n",
       "</table>\n",
       "</div>"
      ],
      "text/plain": [
       "                                           item_name  item_id  \\\n",
       "0          ! ВО ВЛАСТИ НАВАЖДЕНИЯ (ПЛАСТ.)         D        0   \n",
       "1  !ABBYY FineReader 12 Professional Edition Full...        1   \n",
       "2      ***В ЛУЧАХ СЛАВЫ   (UNV)                    D        2   \n",
       "3    ***ГОЛУБАЯ ВОЛНА  (Univ)                      D        3   \n",
       "4        ***КОРОБКА (СТЕКЛО)                       D        4   \n",
       "\n",
       "   item_category_id  \n",
       "0                40  \n",
       "1                76  \n",
       "2                40  \n",
       "3                40  \n",
       "4                40  "
      ]
     },
     "execution_count": 72,
     "metadata": {},
     "output_type": "execute_result"
    }
   ],
   "source": [
    "items.head()"
   ]
  },
  {
   "cell_type": "code",
   "execution_count": 74,
   "id": "ecef4079-df53-4b5b-95db-442b146c1341",
   "metadata": {},
   "outputs": [
    {
     "data": {
      "text/plain": [
       "(22170, 3)"
      ]
     },
     "execution_count": 74,
     "metadata": {},
     "output_type": "execute_result"
    }
   ],
   "source": [
    "items.shape"
   ]
  },
  {
   "cell_type": "code",
   "execution_count": 76,
   "id": "9d7d368c-b552-45f9-b53a-6bcd56e2d56b",
   "metadata": {},
   "outputs": [
    {
     "data": {
      "text/plain": [
       "item_name           22170\n",
       "item_id             22170\n",
       "item_category_id       84\n",
       "dtype: int64"
      ]
     },
     "execution_count": 76,
     "metadata": {},
     "output_type": "execute_result"
    }
   ],
   "source": [
    "items.nunique()"
   ]
  },
  {
   "cell_type": "code",
   "execution_count": 89,
   "id": "23720f94-cbae-4350-b09d-62bfae0ab19c",
   "metadata": {},
   "outputs": [],
   "source": [
    "full_items = pd.merge(\n",
    "    items.drop(columns=\"item_name\"),\n",
    "    item_cat.drop(columns=\"item_category_name\"),\n",
    "    on=\"item_category_id\",\n",
    ")"
   ]
  },
  {
   "cell_type": "code",
   "execution_count": 90,
   "id": "f551ac24-63a6-42dd-a31c-4da1fedfb368",
   "metadata": {},
   "outputs": [
    {
     "data": {
      "text/html": [
       "<div>\n",
       "<style scoped>\n",
       "    .dataframe tbody tr th:only-of-type {\n",
       "        vertical-align: middle;\n",
       "    }\n",
       "\n",
       "    .dataframe tbody tr th {\n",
       "        vertical-align: top;\n",
       "    }\n",
       "\n",
       "    .dataframe thead th {\n",
       "        text-align: right;\n",
       "    }\n",
       "</style>\n",
       "<table border=\"1\" class=\"dataframe\">\n",
       "  <thead>\n",
       "    <tr style=\"text-align: right;\">\n",
       "      <th></th>\n",
       "      <th>item_id</th>\n",
       "      <th>item_category_id</th>\n",
       "      <th>big_category</th>\n",
       "    </tr>\n",
       "  </thead>\n",
       "  <tbody>\n",
       "    <tr>\n",
       "      <th>0</th>\n",
       "      <td>0</td>\n",
       "      <td>40</td>\n",
       "      <td>cinema</td>\n",
       "    </tr>\n",
       "    <tr>\n",
       "      <th>1</th>\n",
       "      <td>2</td>\n",
       "      <td>40</td>\n",
       "      <td>cinema</td>\n",
       "    </tr>\n",
       "    <tr>\n",
       "      <th>2</th>\n",
       "      <td>3</td>\n",
       "      <td>40</td>\n",
       "      <td>cinema</td>\n",
       "    </tr>\n",
       "    <tr>\n",
       "      <th>3</th>\n",
       "      <td>4</td>\n",
       "      <td>40</td>\n",
       "      <td>cinema</td>\n",
       "    </tr>\n",
       "    <tr>\n",
       "      <th>4</th>\n",
       "      <td>5</td>\n",
       "      <td>40</td>\n",
       "      <td>cinema</td>\n",
       "    </tr>\n",
       "  </tbody>\n",
       "</table>\n",
       "</div>"
      ],
      "text/plain": [
       "   item_id  item_category_id big_category\n",
       "0        0                40       cinema\n",
       "1        2                40       cinema\n",
       "2        3                40       cinema\n",
       "3        4                40       cinema\n",
       "4        5                40       cinema"
      ]
     },
     "execution_count": 90,
     "metadata": {},
     "output_type": "execute_result"
    }
   ],
   "source": [
    "full_items.head()"
   ]
  },
  {
   "cell_type": "markdown",
   "id": "1be46503-e2e3-46d5-b922-204774ca702b",
   "metadata": {},
   "source": [
    "## shops"
   ]
  },
  {
   "cell_type": "code",
   "execution_count": 124,
   "id": "a4d517b4-45f2-4506-9e03-230e955d6da3",
   "metadata": {},
   "outputs": [
    {
     "data": {
      "text/html": [
       "<div>\n",
       "<style scoped>\n",
       "    .dataframe tbody tr th:only-of-type {\n",
       "        vertical-align: middle;\n",
       "    }\n",
       "\n",
       "    .dataframe tbody tr th {\n",
       "        vertical-align: top;\n",
       "    }\n",
       "\n",
       "    .dataframe thead th {\n",
       "        text-align: right;\n",
       "    }\n",
       "</style>\n",
       "<table border=\"1\" class=\"dataframe\">\n",
       "  <thead>\n",
       "    <tr style=\"text-align: right;\">\n",
       "      <th></th>\n",
       "      <th>shop_name</th>\n",
       "      <th>shop_id</th>\n",
       "    </tr>\n",
       "  </thead>\n",
       "  <tbody>\n",
       "    <tr>\n",
       "      <th>0</th>\n",
       "      <td>!Якутск Орджоникидзе, 56 фран</td>\n",
       "      <td>0</td>\n",
       "    </tr>\n",
       "    <tr>\n",
       "      <th>1</th>\n",
       "      <td>!Якутск ТЦ \"Центральный\" фран</td>\n",
       "      <td>1</td>\n",
       "    </tr>\n",
       "    <tr>\n",
       "      <th>2</th>\n",
       "      <td>Адыгея ТЦ \"Мега\"</td>\n",
       "      <td>2</td>\n",
       "    </tr>\n",
       "    <tr>\n",
       "      <th>3</th>\n",
       "      <td>Балашиха ТРК \"Октябрь-Киномир\"</td>\n",
       "      <td>3</td>\n",
       "    </tr>\n",
       "    <tr>\n",
       "      <th>4</th>\n",
       "      <td>Волжский ТЦ \"Волга Молл\"</td>\n",
       "      <td>4</td>\n",
       "    </tr>\n",
       "  </tbody>\n",
       "</table>\n",
       "</div>"
      ],
      "text/plain": [
       "                        shop_name  shop_id\n",
       "0   !Якутск Орджоникидзе, 56 фран        0\n",
       "1   !Якутск ТЦ \"Центральный\" фран        1\n",
       "2                Адыгея ТЦ \"Мега\"        2\n",
       "3  Балашиха ТРК \"Октябрь-Киномир\"        3\n",
       "4        Волжский ТЦ \"Волга Молл\"        4"
      ]
     },
     "execution_count": 124,
     "metadata": {},
     "output_type": "execute_result"
    }
   ],
   "source": [
    "shops.head()"
   ]
  },
  {
   "cell_type": "code",
   "execution_count": 125,
   "id": "a8bb1e09-5be1-447e-badc-1fa1aca4b069",
   "metadata": {},
   "outputs": [
    {
     "data": {
      "text/plain": [
       "(60, 2)"
      ]
     },
     "execution_count": 125,
     "metadata": {},
     "output_type": "execute_result"
    }
   ],
   "source": [
    "shops.shape"
   ]
  },
  {
   "cell_type": "code",
   "execution_count": 126,
   "id": "10b1b8ae-54ed-4c68-93f8-abe88b1d2f35",
   "metadata": {},
   "outputs": [
    {
     "data": {
      "text/plain": [
       "shop_name    60\n",
       "shop_id      60\n",
       "dtype: int64"
      ]
     },
     "execution_count": 126,
     "metadata": {},
     "output_type": "execute_result"
    }
   ],
   "source": [
    "shops.nunique()"
   ]
  },
  {
   "cell_type": "code",
   "execution_count": 129,
   "id": "9ea0f548-626e-45d1-b0eb-683f6cefab56",
   "metadata": {},
   "outputs": [
    {
     "data": {
      "text/plain": [
       "Якутск Орджоникидзе, 56                            1\n",
       "Интернет-магазин ЧС                                1\n",
       "Адыгея ТЦ \"Мега\"                                   1\n",
       "Уфа ТЦ \"Семья\" 2                                   1\n",
       "Волжский ТЦ \"Волга Молл\"                           1\n",
       "Жуковский ул. Чкалова 39м²                         1\n",
       "Москва ТЦ \"МЕГА Белая Дача II\"                     1\n",
       "Москва ТЦ \"МЕГА Теплый Стан\" II                    1\n",
       "Москва МТРЦ \"Афи Молл\"                             1\n",
       "СПб ТК \"Сенная\"                                    1\n",
       "Воронеж (Плехановская, 13)                         1\n",
       "СПб ТК \"Невский Центр\"                             1\n",
       "Москва ТК \"Буденовский\" (пав.К7)                   1\n",
       "РостовНаДону ТРК \"Мегацентр Горизонт\" Островной    1\n",
       "Н.Новгород ТРЦ \"РИО\"                               1\n",
       "Москва ТЦ \"Перловский\"                             1\n",
       "Тюмень ТЦ \"Зеленый Берег\"                          1\n",
       "Выездная Торговля                                  1\n",
       "Жуковский ул. Чкалова 39м?                         1\n",
       "РостовНаДону ТРК \"Мегацентр Горизонт\"              1\n",
       "Москва Магазин С21                                 1\n",
       "Цифровой склад 1С-Онлайн                           1\n",
       "Уфа ТК \"Центральный\"                               1\n",
       "Мытищи ТРК \"XL-3\"                                  1\n",
       "Чехов ТРЦ \"Карнавал\"                               1\n",
       "Казань ТЦ \"Бехетле\"                                1\n",
       "Казань ТЦ \"ПаркХаус\" II                            1\n",
       "!Якутск Орджоникидзе, 56 фран                      1\n",
       "Москва \"Распродажа\"                                1\n",
       "Москва ТЦ \"Новый век\" (Новокосино)                 1\n",
       "Сергиев Посад ТЦ \"7Я\"                              1\n",
       "Самара ТЦ \"ПаркХаус\"                               1\n",
       "Балашиха ТРК \"Октябрь-Киномир\"                     1\n",
       "Якутск ТЦ \"Центральный\"                            1\n",
       "Воронеж ТРЦ Сити-Парк \"Град\"                       1\n",
       "Москва ТРК \"Атриум\"                                1\n",
       "Новосибирск ТЦ \"Мега\"                              1\n",
       "Красноярск ТЦ \"Взлетка Плаза\"                      1\n",
       "Химки ТЦ \"Мега\"                                    1\n",
       "Москва ТЦ \"Ареал\" (Беляево)                        1\n",
       "Красноярск ТЦ \"Июнь\"                               1\n",
       "Н.Новгород ТРЦ \"Фантастика\"                        1\n",
       "Москва ТЦ \"Серебряный Дом\"                         1\n",
       "Тюмень ТЦ \"Гудвин\"                                 1\n",
       "Москва ТК \"Буденовский\" (пав.А2)                   1\n",
       "Новосибирск ТРЦ \"Галерея Новосибирск\"              1\n",
       "Вологда ТРЦ \"Мармелад\"                             1\n",
       "Москва ТЦ \"Семеновский\"                            1\n",
       "Самара ТЦ \"Мелодия\"                                1\n",
       "Курск ТЦ \"Пушкинский\"                              1\n",
       "Калуга ТРЦ \"XXI век\"                               1\n",
       "Сургут ТРЦ \"Сити Молл\"                             1\n",
       "РостовНаДону ТЦ \"Мега\"                             1\n",
       "!Якутск ТЦ \"Центральный\" фран                      1\n",
       "Ярославль ТЦ \"Альтаир\"                             1\n",
       "Томск ТРЦ \"Изумрудный Город\"                       1\n",
       "Коломна ТЦ \"Рио\"                                   1\n",
       "Тюмень ТРЦ \"Кристалл\"                              1\n",
       "Воронеж ТРЦ \"Максимир\"                             1\n",
       "Омск ТЦ \"Мега\"                                     1\n",
       "Name: shop_name, dtype: int64"
      ]
     },
     "execution_count": 129,
     "metadata": {},
     "output_type": "execute_result"
    }
   ],
   "source": [
    "shops.shop_name.value_counts()"
   ]
  },
  {
   "cell_type": "code",
   "execution_count": 131,
   "id": "99e5ddbc-3060-4c77-be39-94ee958cfcff",
   "metadata": {},
   "outputs": [],
   "source": [
    "city = [x.split(\" \")[0] for x in shops.shop_name]"
   ]
  },
  {
   "cell_type": "code",
   "execution_count": 133,
   "id": "b9125138-136d-49b7-b384-602c6c59cb59",
   "metadata": {},
   "outputs": [],
   "source": [
    "shops['city'] = city"
   ]
  },
  {
   "cell_type": "code",
   "execution_count": 137,
   "id": "e19a1089-735e-4da3-9b96-27f660878746",
   "metadata": {},
   "outputs": [
    {
     "data": {
      "text/html": [
       "<div>\n",
       "<style scoped>\n",
       "    .dataframe tbody tr th:only-of-type {\n",
       "        vertical-align: middle;\n",
       "    }\n",
       "\n",
       "    .dataframe tbody tr th {\n",
       "        vertical-align: top;\n",
       "    }\n",
       "\n",
       "    .dataframe thead th {\n",
       "        text-align: right;\n",
       "    }\n",
       "</style>\n",
       "<table border=\"1\" class=\"dataframe\">\n",
       "  <thead>\n",
       "    <tr style=\"text-align: right;\">\n",
       "      <th></th>\n",
       "      <th>shop_name</th>\n",
       "      <th>shop_id</th>\n",
       "      <th>city</th>\n",
       "    </tr>\n",
       "  </thead>\n",
       "  <tbody>\n",
       "    <tr>\n",
       "      <th>0</th>\n",
       "      <td>!Якутск Орджоникидзе, 56 фран</td>\n",
       "      <td>0</td>\n",
       "      <td>!Якутск</td>\n",
       "    </tr>\n",
       "    <tr>\n",
       "      <th>1</th>\n",
       "      <td>!Якутск ТЦ \"Центральный\" фран</td>\n",
       "      <td>1</td>\n",
       "      <td>!Якутск</td>\n",
       "    </tr>\n",
       "    <tr>\n",
       "      <th>2</th>\n",
       "      <td>Адыгея ТЦ \"Мега\"</td>\n",
       "      <td>2</td>\n",
       "      <td>Адыгея</td>\n",
       "    </tr>\n",
       "    <tr>\n",
       "      <th>3</th>\n",
       "      <td>Балашиха ТРК \"Октябрь-Киномир\"</td>\n",
       "      <td>3</td>\n",
       "      <td>Балашиха</td>\n",
       "    </tr>\n",
       "    <tr>\n",
       "      <th>4</th>\n",
       "      <td>Волжский ТЦ \"Волга Молл\"</td>\n",
       "      <td>4</td>\n",
       "      <td>Волжский</td>\n",
       "    </tr>\n",
       "  </tbody>\n",
       "</table>\n",
       "</div>"
      ],
      "text/plain": [
       "                        shop_name  shop_id      city\n",
       "0   !Якутск Орджоникидзе, 56 фран        0   !Якутск\n",
       "1   !Якутск ТЦ \"Центральный\" фран        1   !Якутск\n",
       "2                Адыгея ТЦ \"Мега\"        2    Адыгея\n",
       "3  Балашиха ТРК \"Октябрь-Киномир\"        3  Балашиха\n",
       "4        Волжский ТЦ \"Волга Молл\"        4  Волжский"
      ]
     },
     "execution_count": 137,
     "metadata": {},
     "output_type": "execute_result"
    }
   ],
   "source": [
    "shops.head()"
   ]
  },
  {
   "cell_type": "code",
   "execution_count": 139,
   "id": "c4371916-639e-422e-b915-79b65ea2e39c",
   "metadata": {},
   "outputs": [
    {
     "data": {
      "text/plain": [
       "Москва              13\n",
       "РостовНаДону         3\n",
       "Воронеж              3\n",
       "Тюмень               3\n",
       "Уфа                  2\n",
       "Самара               2\n",
       "Новосибирск          2\n",
       "Н.Новгород           2\n",
       "!Якутск              2\n",
       "СПб                  2\n",
       "Красноярск           2\n",
       "Жуковский            2\n",
       "Якутск               2\n",
       "Казань               2\n",
       "Выездная             1\n",
       "Балашиха             1\n",
       "Мытищи               1\n",
       "Курск                1\n",
       "Вологда              1\n",
       "Цифровой             1\n",
       "Сургут               1\n",
       "Ярославль            1\n",
       "Волжский             1\n",
       "Чехов                1\n",
       "Калуга               1\n",
       "Омск                 1\n",
       "Сергиев              1\n",
       "Химки                1\n",
       "Коломна              1\n",
       "Томск                1\n",
       "Адыгея               1\n",
       "Интернет-магазин     1\n",
       "Name: city, dtype: int64"
      ]
     },
     "execution_count": 139,
     "metadata": {},
     "output_type": "execute_result"
    }
   ],
   "source": [
    "shops.city.value_counts()"
   ]
  },
  {
   "cell_type": "code",
   "execution_count": 142,
   "id": "cdad7df7-0441-4be8-8f34-947174458385",
   "metadata": {},
   "outputs": [],
   "source": [
    "shops.loc[shops['city']==\"!Якутск\",'city'] = \"Якутск\"  "
   ]
  },
  {
   "cell_type": "code",
   "execution_count": 143,
   "id": "05c1139d-4e44-4c1e-be14-d716c4fbceb4",
   "metadata": {},
   "outputs": [
    {
     "data": {
      "text/plain": [
       "Москва              13\n",
       "Якутск               4\n",
       "РостовНаДону         3\n",
       "Воронеж              3\n",
       "Тюмень               3\n",
       "Уфа                  2\n",
       "Самара               2\n",
       "Новосибирск          2\n",
       "Н.Новгород           2\n",
       "СПб                  2\n",
       "Красноярск           2\n",
       "Жуковский            2\n",
       "Казань               2\n",
       "Выездная             1\n",
       "Балашиха             1\n",
       "Мытищи               1\n",
       "Курск                1\n",
       "Вологда              1\n",
       "Цифровой             1\n",
       "Сургут               1\n",
       "Ярославль            1\n",
       "Волжский             1\n",
       "Адыгея               1\n",
       "Интернет-магазин     1\n",
       "Омск                 1\n",
       "Сергиев              1\n",
       "Химки                1\n",
       "Калуга               1\n",
       "Коломна              1\n",
       "Томск                1\n",
       "Чехов                1\n",
       "Name: city, dtype: int64"
      ]
     },
     "execution_count": 143,
     "metadata": {},
     "output_type": "execute_result"
    }
   ],
   "source": [
    "shops.city.value_counts()"
   ]
  },
  {
   "cell_type": "code",
   "execution_count": null,
   "id": "b7d4e745-2626-4912-ae36-4bd8dbf87ea3",
   "metadata": {},
   "outputs": [],
   "source": []
  },
  {
   "cell_type": "markdown",
   "id": "e8723f1c-2b31-4fbc-9268-0db08c88a15d",
   "metadata": {},
   "source": [
    "## train"
   ]
  },
  {
   "cell_type": "code",
   "execution_count": 78,
   "id": "9a3ef142-fec6-4248-a8ea-1d18d6abbc80",
   "metadata": {},
   "outputs": [
    {
     "data": {
      "text/html": [
       "<div>\n",
       "<style scoped>\n",
       "    .dataframe tbody tr th:only-of-type {\n",
       "        vertical-align: middle;\n",
       "    }\n",
       "\n",
       "    .dataframe tbody tr th {\n",
       "        vertical-align: top;\n",
       "    }\n",
       "\n",
       "    .dataframe thead th {\n",
       "        text-align: right;\n",
       "    }\n",
       "</style>\n",
       "<table border=\"1\" class=\"dataframe\">\n",
       "  <thead>\n",
       "    <tr style=\"text-align: right;\">\n",
       "      <th></th>\n",
       "      <th>date</th>\n",
       "      <th>date_block_num</th>\n",
       "      <th>shop_id</th>\n",
       "      <th>item_id</th>\n",
       "      <th>item_price</th>\n",
       "      <th>item_cnt_day</th>\n",
       "    </tr>\n",
       "  </thead>\n",
       "  <tbody>\n",
       "    <tr>\n",
       "      <th>0</th>\n",
       "      <td>02.01.2013</td>\n",
       "      <td>0</td>\n",
       "      <td>59</td>\n",
       "      <td>22154</td>\n",
       "      <td>999.00</td>\n",
       "      <td>1.0</td>\n",
       "    </tr>\n",
       "    <tr>\n",
       "      <th>1</th>\n",
       "      <td>03.01.2013</td>\n",
       "      <td>0</td>\n",
       "      <td>25</td>\n",
       "      <td>2552</td>\n",
       "      <td>899.00</td>\n",
       "      <td>1.0</td>\n",
       "    </tr>\n",
       "    <tr>\n",
       "      <th>2</th>\n",
       "      <td>05.01.2013</td>\n",
       "      <td>0</td>\n",
       "      <td>25</td>\n",
       "      <td>2552</td>\n",
       "      <td>899.00</td>\n",
       "      <td>-1.0</td>\n",
       "    </tr>\n",
       "    <tr>\n",
       "      <th>3</th>\n",
       "      <td>06.01.2013</td>\n",
       "      <td>0</td>\n",
       "      <td>25</td>\n",
       "      <td>2554</td>\n",
       "      <td>1709.05</td>\n",
       "      <td>1.0</td>\n",
       "    </tr>\n",
       "    <tr>\n",
       "      <th>4</th>\n",
       "      <td>15.01.2013</td>\n",
       "      <td>0</td>\n",
       "      <td>25</td>\n",
       "      <td>2555</td>\n",
       "      <td>1099.00</td>\n",
       "      <td>1.0</td>\n",
       "    </tr>\n",
       "  </tbody>\n",
       "</table>\n",
       "</div>"
      ],
      "text/plain": [
       "         date  date_block_num  shop_id  item_id  item_price  item_cnt_day\n",
       "0  02.01.2013               0       59    22154      999.00           1.0\n",
       "1  03.01.2013               0       25     2552      899.00           1.0\n",
       "2  05.01.2013               0       25     2552      899.00          -1.0\n",
       "3  06.01.2013               0       25     2554     1709.05           1.0\n",
       "4  15.01.2013               0       25     2555     1099.00           1.0"
      ]
     },
     "execution_count": 78,
     "metadata": {},
     "output_type": "execute_result"
    }
   ],
   "source": [
    "train.head()"
   ]
  },
  {
   "cell_type": "code",
   "execution_count": 80,
   "id": "b7b4147c-c8ab-4d72-9bde-028b1a70748b",
   "metadata": {},
   "outputs": [
    {
     "data": {
      "text/plain": [
       "(2935849, 6)"
      ]
     },
     "execution_count": 80,
     "metadata": {},
     "output_type": "execute_result"
    }
   ],
   "source": [
    "train.shape"
   ]
  },
  {
   "cell_type": "code",
   "execution_count": 92,
   "id": "7c5381cc-5aab-4440-ac58-bdd02b589682",
   "metadata": {},
   "outputs": [],
   "source": [
    "full_train = pd.merge(train, full_items)"
   ]
  },
  {
   "cell_type": "code",
   "execution_count": 93,
   "id": "4eb92ac7-a4be-43a7-81e9-b539c49b48a5",
   "metadata": {},
   "outputs": [
    {
     "data": {
      "text/html": [
       "<div>\n",
       "<style scoped>\n",
       "    .dataframe tbody tr th:only-of-type {\n",
       "        vertical-align: middle;\n",
       "    }\n",
       "\n",
       "    .dataframe tbody tr th {\n",
       "        vertical-align: top;\n",
       "    }\n",
       "\n",
       "    .dataframe thead th {\n",
       "        text-align: right;\n",
       "    }\n",
       "</style>\n",
       "<table border=\"1\" class=\"dataframe\">\n",
       "  <thead>\n",
       "    <tr style=\"text-align: right;\">\n",
       "      <th></th>\n",
       "      <th>date</th>\n",
       "      <th>date_block_num</th>\n",
       "      <th>shop_id</th>\n",
       "      <th>item_id</th>\n",
       "      <th>item_price</th>\n",
       "      <th>item_cnt_day</th>\n",
       "      <th>item_category_id</th>\n",
       "      <th>big_category</th>\n",
       "    </tr>\n",
       "  </thead>\n",
       "  <tbody>\n",
       "    <tr>\n",
       "      <th>0</th>\n",
       "      <td>02.01.2013</td>\n",
       "      <td>0</td>\n",
       "      <td>59</td>\n",
       "      <td>22154</td>\n",
       "      <td>999.0</td>\n",
       "      <td>1.0</td>\n",
       "      <td>37</td>\n",
       "      <td>cinema</td>\n",
       "    </tr>\n",
       "    <tr>\n",
       "      <th>1</th>\n",
       "      <td>23.01.2013</td>\n",
       "      <td>0</td>\n",
       "      <td>24</td>\n",
       "      <td>22154</td>\n",
       "      <td>999.0</td>\n",
       "      <td>1.0</td>\n",
       "      <td>37</td>\n",
       "      <td>cinema</td>\n",
       "    </tr>\n",
       "    <tr>\n",
       "      <th>2</th>\n",
       "      <td>20.01.2013</td>\n",
       "      <td>0</td>\n",
       "      <td>27</td>\n",
       "      <td>22154</td>\n",
       "      <td>999.0</td>\n",
       "      <td>1.0</td>\n",
       "      <td>37</td>\n",
       "      <td>cinema</td>\n",
       "    </tr>\n",
       "    <tr>\n",
       "      <th>3</th>\n",
       "      <td>02.01.2013</td>\n",
       "      <td>0</td>\n",
       "      <td>25</td>\n",
       "      <td>22154</td>\n",
       "      <td>999.0</td>\n",
       "      <td>1.0</td>\n",
       "      <td>37</td>\n",
       "      <td>cinema</td>\n",
       "    </tr>\n",
       "    <tr>\n",
       "      <th>4</th>\n",
       "      <td>03.01.2013</td>\n",
       "      <td>0</td>\n",
       "      <td>25</td>\n",
       "      <td>22154</td>\n",
       "      <td>999.0</td>\n",
       "      <td>1.0</td>\n",
       "      <td>37</td>\n",
       "      <td>cinema</td>\n",
       "    </tr>\n",
       "  </tbody>\n",
       "</table>\n",
       "</div>"
      ],
      "text/plain": [
       "         date  date_block_num  shop_id  item_id  item_price  item_cnt_day  \\\n",
       "0  02.01.2013               0       59    22154       999.0           1.0   \n",
       "1  23.01.2013               0       24    22154       999.0           1.0   \n",
       "2  20.01.2013               0       27    22154       999.0           1.0   \n",
       "3  02.01.2013               0       25    22154       999.0           1.0   \n",
       "4  03.01.2013               0       25    22154       999.0           1.0   \n",
       "\n",
       "   item_category_id big_category  \n",
       "0                37       cinema  \n",
       "1                37       cinema  \n",
       "2                37       cinema  \n",
       "3                37       cinema  \n",
       "4                37       cinema  "
      ]
     },
     "execution_count": 93,
     "metadata": {},
     "output_type": "execute_result"
    }
   ],
   "source": [
    "full_train.head()"
   ]
  },
  {
   "cell_type": "code",
   "execution_count": 103,
   "id": "31ed1695-88b7-4434-b721-3aaf777138e2",
   "metadata": {},
   "outputs": [],
   "source": [
    "month = train[[\"item_cnt_day\", \"item_id\", \"shop_id\", \"date_block_num\"]].groupby(\n",
    "    [\"date_block_num\", \"shop_id\", \"item_id\"]\n",
    ").sum().rename(columns={\"item_cnt_day\":\"item_cnt_month\"})"
   ]
  },
  {
   "cell_type": "code",
   "execution_count": 105,
   "id": "91763fd9-5bd9-4a98-8f1e-803a3d070c9e",
   "metadata": {},
   "outputs": [
    {
     "data": {
      "text/html": [
       "<div>\n",
       "<style scoped>\n",
       "    .dataframe tbody tr th:only-of-type {\n",
       "        vertical-align: middle;\n",
       "    }\n",
       "\n",
       "    .dataframe tbody tr th {\n",
       "        vertical-align: top;\n",
       "    }\n",
       "\n",
       "    .dataframe thead th {\n",
       "        text-align: right;\n",
       "    }\n",
       "</style>\n",
       "<table border=\"1\" class=\"dataframe\">\n",
       "  <thead>\n",
       "    <tr style=\"text-align: right;\">\n",
       "      <th></th>\n",
       "      <th></th>\n",
       "      <th></th>\n",
       "      <th>item_cnt_month</th>\n",
       "    </tr>\n",
       "    <tr>\n",
       "      <th>date_block_num</th>\n",
       "      <th>shop_id</th>\n",
       "      <th>item_id</th>\n",
       "      <th></th>\n",
       "    </tr>\n",
       "  </thead>\n",
       "  <tbody>\n",
       "    <tr>\n",
       "      <th rowspan=\"5\" valign=\"top\">0</th>\n",
       "      <th rowspan=\"5\" valign=\"top\">0</th>\n",
       "      <th>32</th>\n",
       "      <td>6.0</td>\n",
       "    </tr>\n",
       "    <tr>\n",
       "      <th>33</th>\n",
       "      <td>3.0</td>\n",
       "    </tr>\n",
       "    <tr>\n",
       "      <th>35</th>\n",
       "      <td>1.0</td>\n",
       "    </tr>\n",
       "    <tr>\n",
       "      <th>43</th>\n",
       "      <td>1.0</td>\n",
       "    </tr>\n",
       "    <tr>\n",
       "      <th>51</th>\n",
       "      <td>2.0</td>\n",
       "    </tr>\n",
       "    <tr>\n",
       "      <th>...</th>\n",
       "      <th>...</th>\n",
       "      <th>...</th>\n",
       "      <td>...</td>\n",
       "    </tr>\n",
       "    <tr>\n",
       "      <th rowspan=\"5\" valign=\"top\">33</th>\n",
       "      <th rowspan=\"5\" valign=\"top\">59</th>\n",
       "      <th>22087</th>\n",
       "      <td>6.0</td>\n",
       "    </tr>\n",
       "    <tr>\n",
       "      <th>22088</th>\n",
       "      <td>2.0</td>\n",
       "    </tr>\n",
       "    <tr>\n",
       "      <th>22091</th>\n",
       "      <td>1.0</td>\n",
       "    </tr>\n",
       "    <tr>\n",
       "      <th>22100</th>\n",
       "      <td>1.0</td>\n",
       "    </tr>\n",
       "    <tr>\n",
       "      <th>22102</th>\n",
       "      <td>1.0</td>\n",
       "    </tr>\n",
       "  </tbody>\n",
       "</table>\n",
       "<p>1609124 rows × 1 columns</p>\n",
       "</div>"
      ],
      "text/plain": [
       "                                item_cnt_month\n",
       "date_block_num shop_id item_id                \n",
       "0              0       32                  6.0\n",
       "                       33                  3.0\n",
       "                       35                  1.0\n",
       "                       43                  1.0\n",
       "                       51                  2.0\n",
       "...                                        ...\n",
       "33             59      22087               6.0\n",
       "                       22088               2.0\n",
       "                       22091               1.0\n",
       "                       22100               1.0\n",
       "                       22102               1.0\n",
       "\n",
       "[1609124 rows x 1 columns]"
      ]
     },
     "execution_count": 105,
     "metadata": {},
     "output_type": "execute_result"
    }
   ],
   "source": [
    "month"
   ]
  },
  {
   "cell_type": "code",
   "execution_count": 110,
   "id": "d9ecaf14-c918-4037-8983-2bc85bdd268d",
   "metadata": {},
   "outputs": [],
   "source": [
    "full_train = pd.merge(full_train,month,on=[\"item_id\",'date_block_num','shop_id'],how='left')"
   ]
  },
  {
   "cell_type": "code",
   "execution_count": 111,
   "id": "70df1b8f-1ea2-46df-92c5-f1e3292ba2e0",
   "metadata": {},
   "outputs": [
    {
     "data": {
      "text/html": [
       "<div>\n",
       "<style scoped>\n",
       "    .dataframe tbody tr th:only-of-type {\n",
       "        vertical-align: middle;\n",
       "    }\n",
       "\n",
       "    .dataframe tbody tr th {\n",
       "        vertical-align: top;\n",
       "    }\n",
       "\n",
       "    .dataframe thead th {\n",
       "        text-align: right;\n",
       "    }\n",
       "</style>\n",
       "<table border=\"1\" class=\"dataframe\">\n",
       "  <thead>\n",
       "    <tr style=\"text-align: right;\">\n",
       "      <th></th>\n",
       "      <th>date</th>\n",
       "      <th>date_block_num</th>\n",
       "      <th>shop_id</th>\n",
       "      <th>item_id</th>\n",
       "      <th>item_price</th>\n",
       "      <th>item_cnt_day</th>\n",
       "      <th>item_category_id</th>\n",
       "      <th>big_category</th>\n",
       "      <th>item_cnt_month</th>\n",
       "    </tr>\n",
       "  </thead>\n",
       "  <tbody>\n",
       "    <tr>\n",
       "      <th>0</th>\n",
       "      <td>02.01.2013</td>\n",
       "      <td>0</td>\n",
       "      <td>59</td>\n",
       "      <td>22154</td>\n",
       "      <td>999.0</td>\n",
       "      <td>1.0</td>\n",
       "      <td>37</td>\n",
       "      <td>cinema</td>\n",
       "      <td>1.0</td>\n",
       "    </tr>\n",
       "    <tr>\n",
       "      <th>1</th>\n",
       "      <td>23.01.2013</td>\n",
       "      <td>0</td>\n",
       "      <td>24</td>\n",
       "      <td>22154</td>\n",
       "      <td>999.0</td>\n",
       "      <td>1.0</td>\n",
       "      <td>37</td>\n",
       "      <td>cinema</td>\n",
       "      <td>1.0</td>\n",
       "    </tr>\n",
       "    <tr>\n",
       "      <th>2</th>\n",
       "      <td>20.01.2013</td>\n",
       "      <td>0</td>\n",
       "      <td>27</td>\n",
       "      <td>22154</td>\n",
       "      <td>999.0</td>\n",
       "      <td>1.0</td>\n",
       "      <td>37</td>\n",
       "      <td>cinema</td>\n",
       "      <td>1.0</td>\n",
       "    </tr>\n",
       "    <tr>\n",
       "      <th>3</th>\n",
       "      <td>02.01.2013</td>\n",
       "      <td>0</td>\n",
       "      <td>25</td>\n",
       "      <td>22154</td>\n",
       "      <td>999.0</td>\n",
       "      <td>1.0</td>\n",
       "      <td>37</td>\n",
       "      <td>cinema</td>\n",
       "      <td>5.0</td>\n",
       "    </tr>\n",
       "    <tr>\n",
       "      <th>4</th>\n",
       "      <td>03.01.2013</td>\n",
       "      <td>0</td>\n",
       "      <td>25</td>\n",
       "      <td>22154</td>\n",
       "      <td>999.0</td>\n",
       "      <td>1.0</td>\n",
       "      <td>37</td>\n",
       "      <td>cinema</td>\n",
       "      <td>5.0</td>\n",
       "    </tr>\n",
       "    <tr>\n",
       "      <th>...</th>\n",
       "      <td>...</td>\n",
       "      <td>...</td>\n",
       "      <td>...</td>\n",
       "      <td>...</td>\n",
       "      <td>...</td>\n",
       "      <td>...</td>\n",
       "      <td>...</td>\n",
       "      <td>...</td>\n",
       "      <td>...</td>\n",
       "    </tr>\n",
       "    <tr>\n",
       "      <th>2935844</th>\n",
       "      <td>17.10.2015</td>\n",
       "      <td>33</td>\n",
       "      <td>25</td>\n",
       "      <td>8428</td>\n",
       "      <td>249.0</td>\n",
       "      <td>1.0</td>\n",
       "      <td>40</td>\n",
       "      <td>cinema</td>\n",
       "      <td>1.0</td>\n",
       "    </tr>\n",
       "    <tr>\n",
       "      <th>2935845</th>\n",
       "      <td>01.10.2015</td>\n",
       "      <td>33</td>\n",
       "      <td>25</td>\n",
       "      <td>7903</td>\n",
       "      <td>12198.0</td>\n",
       "      <td>1.0</td>\n",
       "      <td>15</td>\n",
       "      <td>game consoles</td>\n",
       "      <td>1.0</td>\n",
       "    </tr>\n",
       "    <tr>\n",
       "      <th>2935846</th>\n",
       "      <td>29.10.2015</td>\n",
       "      <td>33</td>\n",
       "      <td>25</td>\n",
       "      <td>7610</td>\n",
       "      <td>2890.0</td>\n",
       "      <td>1.0</td>\n",
       "      <td>64</td>\n",
       "      <td>present</td>\n",
       "      <td>1.0</td>\n",
       "    </tr>\n",
       "    <tr>\n",
       "      <th>2935847</th>\n",
       "      <td>22.10.2015</td>\n",
       "      <td>33</td>\n",
       "      <td>25</td>\n",
       "      <td>7635</td>\n",
       "      <td>2100.0</td>\n",
       "      <td>1.0</td>\n",
       "      <td>64</td>\n",
       "      <td>present</td>\n",
       "      <td>1.0</td>\n",
       "    </tr>\n",
       "    <tr>\n",
       "      <th>2935848</th>\n",
       "      <td>01.10.2015</td>\n",
       "      <td>33</td>\n",
       "      <td>25</td>\n",
       "      <td>7640</td>\n",
       "      <td>4040.0</td>\n",
       "      <td>1.0</td>\n",
       "      <td>64</td>\n",
       "      <td>present</td>\n",
       "      <td>1.0</td>\n",
       "    </tr>\n",
       "  </tbody>\n",
       "</table>\n",
       "<p>2935849 rows × 9 columns</p>\n",
       "</div>"
      ],
      "text/plain": [
       "               date  date_block_num  shop_id  item_id  item_price  \\\n",
       "0        02.01.2013               0       59    22154       999.0   \n",
       "1        23.01.2013               0       24    22154       999.0   \n",
       "2        20.01.2013               0       27    22154       999.0   \n",
       "3        02.01.2013               0       25    22154       999.0   \n",
       "4        03.01.2013               0       25    22154       999.0   \n",
       "...             ...             ...      ...      ...         ...   \n",
       "2935844  17.10.2015              33       25     8428       249.0   \n",
       "2935845  01.10.2015              33       25     7903     12198.0   \n",
       "2935846  29.10.2015              33       25     7610      2890.0   \n",
       "2935847  22.10.2015              33       25     7635      2100.0   \n",
       "2935848  01.10.2015              33       25     7640      4040.0   \n",
       "\n",
       "         item_cnt_day  item_category_id   big_category  item_cnt_month  \n",
       "0                 1.0                37         cinema             1.0  \n",
       "1                 1.0                37         cinema             1.0  \n",
       "2                 1.0                37         cinema             1.0  \n",
       "3                 1.0                37         cinema             5.0  \n",
       "4                 1.0                37         cinema             5.0  \n",
       "...               ...               ...            ...             ...  \n",
       "2935844           1.0                40         cinema             1.0  \n",
       "2935845           1.0                15  game consoles             1.0  \n",
       "2935846           1.0                64        present             1.0  \n",
       "2935847           1.0                64        present             1.0  \n",
       "2935848           1.0                64        present             1.0  \n",
       "\n",
       "[2935849 rows x 9 columns]"
      ]
     },
     "execution_count": 111,
     "metadata": {},
     "output_type": "execute_result"
    }
   ],
   "source": [
    "full_train"
   ]
  },
  {
   "cell_type": "code",
   "execution_count": 144,
   "id": "1bd67ab6-3d4c-4cec-a090-3a3326d27d45",
   "metadata": {},
   "outputs": [],
   "source": [
    "full_train = pd.merge(full_train,shops.drop(columns='shop_name'))"
   ]
  },
  {
   "cell_type": "code",
   "execution_count": 145,
   "id": "29dd3f79-0a6b-4b9f-adf2-41bf05cd6146",
   "metadata": {},
   "outputs": [
    {
     "data": {
      "text/html": [
       "<div>\n",
       "<style scoped>\n",
       "    .dataframe tbody tr th:only-of-type {\n",
       "        vertical-align: middle;\n",
       "    }\n",
       "\n",
       "    .dataframe tbody tr th {\n",
       "        vertical-align: top;\n",
       "    }\n",
       "\n",
       "    .dataframe thead th {\n",
       "        text-align: right;\n",
       "    }\n",
       "</style>\n",
       "<table border=\"1\" class=\"dataframe\">\n",
       "  <thead>\n",
       "    <tr style=\"text-align: right;\">\n",
       "      <th></th>\n",
       "      <th>date</th>\n",
       "      <th>date_block_num</th>\n",
       "      <th>shop_id</th>\n",
       "      <th>item_id</th>\n",
       "      <th>item_price</th>\n",
       "      <th>item_cnt_day</th>\n",
       "      <th>item_category_id</th>\n",
       "      <th>big_category</th>\n",
       "      <th>item_cnt_month</th>\n",
       "      <th>city</th>\n",
       "    </tr>\n",
       "  </thead>\n",
       "  <tbody>\n",
       "    <tr>\n",
       "      <th>0</th>\n",
       "      <td>02.01.2013</td>\n",
       "      <td>0</td>\n",
       "      <td>59</td>\n",
       "      <td>22154</td>\n",
       "      <td>999.0</td>\n",
       "      <td>1.0</td>\n",
       "      <td>37</td>\n",
       "      <td>cinema</td>\n",
       "      <td>1.0</td>\n",
       "      <td>Ярославль</td>\n",
       "    </tr>\n",
       "    <tr>\n",
       "      <th>1</th>\n",
       "      <td>16.05.2013</td>\n",
       "      <td>4</td>\n",
       "      <td>59</td>\n",
       "      <td>2573</td>\n",
       "      <td>249.0</td>\n",
       "      <td>1.0</td>\n",
       "      <td>55</td>\n",
       "      <td>music</td>\n",
       "      <td>1.0</td>\n",
       "      <td>Ярославль</td>\n",
       "    </tr>\n",
       "    <tr>\n",
       "      <th>2</th>\n",
       "      <td>26.01.2013</td>\n",
       "      <td>0</td>\n",
       "      <td>59</td>\n",
       "      <td>2574</td>\n",
       "      <td>399.0</td>\n",
       "      <td>1.0</td>\n",
       "      <td>55</td>\n",
       "      <td>music</td>\n",
       "      <td>2.0</td>\n",
       "      <td>Ярославль</td>\n",
       "    </tr>\n",
       "    <tr>\n",
       "      <th>3</th>\n",
       "      <td>09.01.2013</td>\n",
       "      <td>0</td>\n",
       "      <td>59</td>\n",
       "      <td>2574</td>\n",
       "      <td>399.0</td>\n",
       "      <td>1.0</td>\n",
       "      <td>55</td>\n",
       "      <td>music</td>\n",
       "      <td>2.0</td>\n",
       "      <td>Ярославль</td>\n",
       "    </tr>\n",
       "    <tr>\n",
       "      <th>4</th>\n",
       "      <td>24.02.2013</td>\n",
       "      <td>1</td>\n",
       "      <td>59</td>\n",
       "      <td>2574</td>\n",
       "      <td>399.0</td>\n",
       "      <td>1.0</td>\n",
       "      <td>55</td>\n",
       "      <td>music</td>\n",
       "      <td>1.0</td>\n",
       "      <td>Ярославль</td>\n",
       "    </tr>\n",
       "    <tr>\n",
       "      <th>...</th>\n",
       "      <td>...</td>\n",
       "      <td>...</td>\n",
       "      <td>...</td>\n",
       "      <td>...</td>\n",
       "      <td>...</td>\n",
       "      <td>...</td>\n",
       "      <td>...</td>\n",
       "      <td>...</td>\n",
       "      <td>...</td>\n",
       "      <td>...</td>\n",
       "    </tr>\n",
       "    <tr>\n",
       "      <th>2935844</th>\n",
       "      <td>28.10.2015</td>\n",
       "      <td>33</td>\n",
       "      <td>55</td>\n",
       "      <td>1819</td>\n",
       "      <td>1499.0</td>\n",
       "      <td>3.0</td>\n",
       "      <td>31</td>\n",
       "      <td>pc_games</td>\n",
       "      <td>4.0</td>\n",
       "      <td>Цифровой</td>\n",
       "    </tr>\n",
       "    <tr>\n",
       "      <th>2935845</th>\n",
       "      <td>29.10.2015</td>\n",
       "      <td>33</td>\n",
       "      <td>55</td>\n",
       "      <td>1819</td>\n",
       "      <td>1499.0</td>\n",
       "      <td>1.0</td>\n",
       "      <td>31</td>\n",
       "      <td>pc_games</td>\n",
       "      <td>4.0</td>\n",
       "      <td>Цифровой</td>\n",
       "    </tr>\n",
       "    <tr>\n",
       "      <th>2935846</th>\n",
       "      <td>24.10.2015</td>\n",
       "      <td>33</td>\n",
       "      <td>55</td>\n",
       "      <td>2390</td>\n",
       "      <td>99.0</td>\n",
       "      <td>1.0</td>\n",
       "      <td>31</td>\n",
       "      <td>pc_games</td>\n",
       "      <td>1.0</td>\n",
       "      <td>Цифровой</td>\n",
       "    </tr>\n",
       "    <tr>\n",
       "      <th>2935847</th>\n",
       "      <td>01.10.2015</td>\n",
       "      <td>33</td>\n",
       "      <td>55</td>\n",
       "      <td>1935</td>\n",
       "      <td>249.0</td>\n",
       "      <td>1.0</td>\n",
       "      <td>31</td>\n",
       "      <td>pc_games</td>\n",
       "      <td>1.0</td>\n",
       "      <td>Цифровой</td>\n",
       "    </tr>\n",
       "    <tr>\n",
       "      <th>2935848</th>\n",
       "      <td>17.10.2015</td>\n",
       "      <td>33</td>\n",
       "      <td>55</td>\n",
       "      <td>2066</td>\n",
       "      <td>199.0</td>\n",
       "      <td>1.0</td>\n",
       "      <td>31</td>\n",
       "      <td>pc_games</td>\n",
       "      <td>1.0</td>\n",
       "      <td>Цифровой</td>\n",
       "    </tr>\n",
       "  </tbody>\n",
       "</table>\n",
       "<p>2935849 rows × 10 columns</p>\n",
       "</div>"
      ],
      "text/plain": [
       "               date  date_block_num  shop_id  item_id  item_price  \\\n",
       "0        02.01.2013               0       59    22154       999.0   \n",
       "1        16.05.2013               4       59     2573       249.0   \n",
       "2        26.01.2013               0       59     2574       399.0   \n",
       "3        09.01.2013               0       59     2574       399.0   \n",
       "4        24.02.2013               1       59     2574       399.0   \n",
       "...             ...             ...      ...      ...         ...   \n",
       "2935844  28.10.2015              33       55     1819      1499.0   \n",
       "2935845  29.10.2015              33       55     1819      1499.0   \n",
       "2935846  24.10.2015              33       55     2390        99.0   \n",
       "2935847  01.10.2015              33       55     1935       249.0   \n",
       "2935848  17.10.2015              33       55     2066       199.0   \n",
       "\n",
       "         item_cnt_day  item_category_id big_category  item_cnt_month  \\\n",
       "0                 1.0                37       cinema             1.0   \n",
       "1                 1.0                55        music             1.0   \n",
       "2                 1.0                55        music             2.0   \n",
       "3                 1.0                55        music             2.0   \n",
       "4                 1.0                55        music             1.0   \n",
       "...               ...               ...          ...             ...   \n",
       "2935844           3.0                31     pc_games             4.0   \n",
       "2935845           1.0                31     pc_games             4.0   \n",
       "2935846           1.0                31     pc_games             1.0   \n",
       "2935847           1.0                31     pc_games             1.0   \n",
       "2935848           1.0                31     pc_games             1.0   \n",
       "\n",
       "              city  \n",
       "0        Ярославль  \n",
       "1        Ярославль  \n",
       "2        Ярославль  \n",
       "3        Ярославль  \n",
       "4        Ярославль  \n",
       "...            ...  \n",
       "2935844   Цифровой  \n",
       "2935845   Цифровой  \n",
       "2935846   Цифровой  \n",
       "2935847   Цифровой  \n",
       "2935848   Цифровой  \n",
       "\n",
       "[2935849 rows x 10 columns]"
      ]
     },
     "execution_count": 145,
     "metadata": {},
     "output_type": "execute_result"
    }
   ],
   "source": [
    "full_train"
   ]
  },
  {
   "cell_type": "code",
   "execution_count": 120,
   "id": "c01c7b1f-7c14-4ad0-a549-18e725b69e18",
   "metadata": {},
   "outputs": [
    {
     "data": {
      "text/plain": [
       "Text(0.5, 1.0, 'Monthly Item Counts by Big Category')"
      ]
     },
     "execution_count": 120,
     "metadata": {},
     "output_type": "execute_result"
    },
    {
     "data": {
      "image/png": "[encoded data removed]",
      "text/plain": [
       "<Figure size 1440x720 with 1 Axes>"
      ]
     },
     "metadata": {
      "needs_background": "light"
     },
     "output_type": "display_data"
    }
   ],
   "source": [
    "plt_df = full_train.groupby([\"date_block_num\", \"big_category\"], as_index=False).sum()\n",
    "\n",
    "plt.figure(figsize=(20, 10))\n",
    "sns.lineplot(\n",
    "    x=\"date_block_num\", y=\"item_cnt_month\", data=plt_df, hue=\"big_category\"\n",
    ")\n",
    "plt.title(\"Monthly Item Counts by Big Category\")"
   ]
  },
  {
   "cell_type": "code",
   "execution_count": 146,
   "id": "a97e40cc-38c4-4fe2-b59e-0b7fdf742089",
   "metadata": {},
   "outputs": [
    {
     "data": {
      "text/plain": [
       "Text(0.5, 1.0, 'Monthly Item Counts by City')"
      ]
     },
     "execution_count": 146,
     "metadata": {},
     "output_type": "execute_result"
    },
    {
     "data": {
      "image/png": "[encoded data removed]",
      "text/plain": [
       "<Figure size 1440x720 with 1 Axes>"
      ]
     },
     "metadata": {
      "needs_background": "light"
     },
     "output_type": "display_data"
    }
   ],
   "source": [
    "plt_df = full_train.groupby([\"date_block_num\", \"city\"], as_index=False).sum()\n",
    "\n",
    "plt.figure(figsize=(20, 10))\n",
    "sns.lineplot(\n",
    "    x=\"date_block_num\", y=\"item_cnt_month\", data=plt_df, hue=\"city\"\n",
    ")\n",
    "plt.title(\"Monthly Item Counts by City\")"
   ]
  },
  {
   "cell_type": "markdown",
   "id": "7187ce14-eb1e-4031-b744-7922d426f61e",
   "metadata": {},
   "source": [
    "## test"
   ]
  },
  {
   "cell_type": "code",
   "execution_count": 147,
   "id": "ab9e771f-9485-487c-a6e8-6ef20e39847b",
   "metadata": {},
   "outputs": [
    {
     "data": {
      "text/html": [
       "<div>\n",
       "<style scoped>\n",
       "    .dataframe tbody tr th:only-of-type {\n",
       "        vertical-align: middle;\n",
       "    }\n",
       "\n",
       "    .dataframe tbody tr th {\n",
       "        vertical-align: top;\n",
       "    }\n",
       "\n",
       "    .dataframe thead th {\n",
       "        text-align: right;\n",
       "    }\n",
       "</style>\n",
       "<table border=\"1\" class=\"dataframe\">\n",
       "  <thead>\n",
       "    <tr style=\"text-align: right;\">\n",
       "      <th></th>\n",
       "      <th>ID</th>\n",
       "      <th>shop_id</th>\n",
       "      <th>item_id</th>\n",
       "    </tr>\n",
       "  </thead>\n",
       "  <tbody>\n",
       "    <tr>\n",
       "      <th>0</th>\n",
       "      <td>0</td>\n",
       "      <td>5</td>\n",
       "      <td>5037</td>\n",
       "    </tr>\n",
       "    <tr>\n",
       "      <th>1</th>\n",
       "      <td>1</td>\n",
       "      <td>5</td>\n",
       "      <td>5320</td>\n",
       "    </tr>\n",
       "    <tr>\n",
       "      <th>2</th>\n",
       "      <td>2</td>\n",
       "      <td>5</td>\n",
       "      <td>5233</td>\n",
       "    </tr>\n",
       "    <tr>\n",
       "      <th>3</th>\n",
       "      <td>3</td>\n",
       "      <td>5</td>\n",
       "      <td>5232</td>\n",
       "    </tr>\n",
       "    <tr>\n",
       "      <th>4</th>\n",
       "      <td>4</td>\n",
       "      <td>5</td>\n",
       "      <td>5268</td>\n",
       "    </tr>\n",
       "  </tbody>\n",
       "</table>\n",
       "</div>"
      ],
      "text/plain": [
       "   ID  shop_id  item_id\n",
       "0   0        5     5037\n",
       "1   1        5     5320\n",
       "2   2        5     5233\n",
       "3   3        5     5232\n",
       "4   4        5     5268"
      ]
     },
     "execution_count": 147,
     "metadata": {},
     "output_type": "execute_result"
    }
   ],
   "source": [
    "test.head()"
   ]
  },
  {
   "cell_type": "markdown",
   "id": "ad275e08-5b75-42e2-a3dc-ff792285bfa4",
   "metadata": {},
   "source": [
    "# Feature Engineering"
   ]
  },
  {
   "cell_type": "markdown",
   "id": "8b4dc63f-7542-4c9b-8002-54a182dc74f8",
   "metadata": {},
   "source": [
    "# Validation"
   ]
  },
  {
   "cell_type": "markdown",
   "id": "2112b114-c582-47a9-80c4-bbad622f9993",
   "metadata": {},
   "source": [
    "# Submission"
   ]
  },
  {
   "cell_type": "code",
   "execution_count": null,
   "id": "bddaff33-dcd2-49fc-805b-e510906e40b0",
   "metadata": {},
   "outputs": [],
   "source": []
  }
 ],
 "metadata": {
  "kernelspec": {
   "display_name": "Python 3",
   "language": "python",
   "name": "python3"
  },
  "language_info": {
   "codemirror_mode": {
    "name": "ipython",
    "version": 3
   },
   "file_extension": ".py",
   "mimetype": "text/x-python",
   "name": "python",
   "nbconvert_exporter": "python",
   "pygments_lexer": "ipython3",
   "version": "3.8.8"
  },
  "toc-autonumbering": true
 },
 "nbformat": 4,
 "nbformat_minor": 5
}
